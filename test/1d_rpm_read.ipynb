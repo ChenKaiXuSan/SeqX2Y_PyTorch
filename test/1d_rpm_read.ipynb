{
 "cells": [
  {
   "cell_type": "code",
   "execution_count": 6,
   "metadata": {},
   "outputs": [
    {
     "name": "stdout",
     "output_type": "stream",
     "text": [
      "[[24. 25. 28.]\n",
      " [37. 42. 42.]\n",
      " [21. 28. 29.]\n",
      " [12. 17. 21.]\n",
      " [21. 24. 27.]\n",
      " [37. 40. 42.]]\n",
      "[[28. 25. 24.]\n",
      " [42. 42. 37.]\n",
      " [29. 28. 21.]\n",
      " [21. 17. 12.]\n",
      " [27. 24. 21.]\n",
      " [42. 40. 37.]]\n",
      "[[24. 25. 28.]\n",
      " [37. 42. 42.]\n",
      " [21. 28. 29.]\n",
      " [12. 17. 21.]\n",
      " [21. 24. 27.]\n",
      " [37. 40. 42.]]\n"
     ]
    }
   ],
   "source": [
    "import os, csv\n",
    "import numpy as np\n",
    "import torch\n",
    "\n",
    "# Reading RPM #\n",
    "with open('/workspace/data/Diagram_Coordinates/1D_rpm.csv', 'r', encoding='utf-8-sig') as f:  # 使用'utf-8-sig'来自动处理BOM\n",
    "    data = list(csv.reader(f, delimiter=\",\"))        \n",
    "RPM = np.array(data)\n",
    "RPM = np.float32(RPM)\n",
    "\n",
    "select_seq = RPM[:6, [1, 3, 5]]\n",
    "print(select_seq)\n",
    "RPM_X = select_seq[:, ::-1]\n",
    "print(RPM_X)\n",
    "RPM_Y = select_seq[:, 0::]\n",
    "print(RPM_Y)"
   ]
  },
  {
   "cell_type": "code",
   "execution_count": 8,
   "metadata": {},
   "outputs": [
    {
     "name": "stdout",
     "output_type": "stream",
     "text": [
      "32\n",
      "24\n",
      "12\n"
     ]
    }
   ],
   "source": [
    "time_series_list = [12, 24, 32]\n",
    "for t in range(3-1, -1, -1):\n",
    "    print(time_series_list[t])"
   ]
  },
  {
   "cell_type": "code",
   "execution_count": 2,
   "metadata": {},
   "outputs": [
    {
     "name": "stdout",
     "output_type": "stream",
     "text": [
      "[37. 40. 42.]\n",
      "[40. 42. 41.]\n"
     ]
    }
   ],
   "source": [
    "import os, csv\n",
    "import numpy as np\n",
    "import torch\n",
    "\n",
    "# Reading RPM #\n",
    "with open('/workspace/data/Diagram_Coordinates/1D_rpm.csv', 'r', encoding='utf-8-sig') as f:  # 使用'utf-8-sig'来自动处理BOM\n",
    "    data = list(csv.reader(f, delimiter=\",\"))        \n",
    "RPM = np.array(data)\n",
    "RPM = np.float32(RPM)\n",
    "\n",
    "select_seq = RPM[5, [1, 3, 5, 7]]\n",
    "RPM_X = select_seq[:-1]\n",
    "print(RPM_X)\n",
    "RPM_Y = select_seq[1:]\n",
    "print(RPM_Y)"
   ]
  },
  {
   "cell_type": "code",
   "execution_count": 25,
   "metadata": {},
   "outputs": [
    {
     "data": {
      "text/plain": [
       "tensor([[25., 28., 28.],\n",
       "        [42., 42., 40.],\n",
       "        [28., 29., 27.],\n",
       "        [17., 21., 17.],\n",
       "        [24., 27., 25.]], device='cuda:0')"
      ]
     },
     "execution_count": 25,
     "metadata": {},
     "output_type": "execute_result"
    }
   ],
   "source": [
    "RPM_X_tensor = torch.Tensor(RPM_X)\n",
    "RPM_Y_tensor = torch.Tensor(RPM_Y)\n",
    "RPM_X_tensor.cuda()\n",
    "RPM_Y_tensor.cuda()"
   ]
  },
  {
   "cell_type": "code",
   "execution_count": 9,
   "metadata": {},
   "outputs": [
    {
     "data": {
      "text/plain": [
       "array([[0.83645042, 0.53475235, 0.72372967, 0.8460796 , 0.54394486,\n",
       "        0.96691868, 0.66363474]])"
      ]
     },
     "execution_count": 9,
     "metadata": {},
     "output_type": "execute_result"
    }
   ],
   "source": [
    "test_x_rpm = np.random.rand(1, 7) \n",
    "test_x_rpm"
   ]
  },
  {
   "cell_type": "code",
   "execution_count": 1,
   "metadata": {},
   "outputs": [
    {
     "name": "stdout",
     "output_type": "stream",
     "text": [
      "0\n",
      "1\n",
      "2\n"
     ]
    }
   ],
   "source": [
    "for t in range(3):\n",
    "    print(t)"
   ]
  },
  {
   "cell_type": "code",
   "execution_count": 3,
   "metadata": {},
   "outputs": [
    {
     "name": "stdout",
     "output_type": "stream",
     "text": [
      "2\n",
      "1\n",
      "0\n"
     ]
    }
   ],
   "source": [
    "for t in range(3-1, -1, -1): \n",
    "    print(t)"
   ]
  }
 ],
 "metadata": {
  "kernelspec": {
   "display_name": "base",
   "language": "python",
   "name": "python3"
  },
  "language_info": {
   "codemirror_mode": {
    "name": "ipython",
    "version": 3
   },
   "file_extension": ".py",
   "mimetype": "text/x-python",
   "name": "python",
   "nbconvert_exporter": "python",
   "pygments_lexer": "ipython3",
   "version": "3.10.11"
  }
 },
 "nbformat": 4,
 "nbformat_minor": 2
}
